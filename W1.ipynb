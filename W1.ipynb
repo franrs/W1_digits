{
 "cells": [
  {
   "cell_type": "code",
   "execution_count": 1,
   "metadata": {
    "pycharm": {
     "is_executing": false,
     "metadata": false,
     "name": "#%%\n"
    }
   },
   "outputs": [
    {
     "data": {
      "text/plain": [
       "<Figure size 640x480 with 0 Axes>"
      ]
     },
     "metadata": {},
     "output_type": "display_data"
    },
    {
     "data": {
      "text/plain": [
       "<Figure size 480x480 with 1 Axes>"
      ]
     },
     "metadata": {},
     "output_type": "display_data"
    }
   ],
   "source": [
    "\"\"\"\n",
    "Workbook analyzing DIGITS dataset from scikit-learn using K Nearest Neighbours Classifier\n",
    "\"\"\"\n",
    "\n",
    "\"\"\"\n",
    "1. Election of dataset: Digits dataset is going to be used.\n",
    "This is a classification dataset where each data-point is a 8x8 image image of a digit.\n",
    "\"\"\"\n",
    "\n",
    "from sklearn.datasets import load_digits\n",
    "digits = load_digits()\n",
    "\n",
    "\"\"\"\n",
    "2. Description of the dataset\n",
    "\"\"\"\n",
    "# An example of the data:\n",
    "import matplotlib.pyplot as plt\n",
    "plt.gray()\n",
    "plt.matshow(digits.images[12])\n",
    "plt.show()\n"
   ]
  },
  {
   "cell_type": "code",
   "execution_count": 4,
   "metadata": {
    "pycharm": {
     "is_executing": false,
     "metadata": false,
     "name": "#%%\n"
    }
   },
   "outputs": [
    {
     "name": "stdout",
     "output_type": "stream",
     "text": [
      "(number of observations, number of features): (1797, 64)\n",
      "Num of digit '0' samples: 178\n",
      "Num of digit '1' samples: 182\n",
      "Num of digit '2' samples: 177\n",
      "Num of digit '3' samples: 183\n",
      "Num of digit '4' samples: 181\n",
      "Num of digit '5' samples: 182\n",
      "Num of digit '6' samples: 181\n",
      "Num of digit '7' samples: 179\n",
      "Num of digit '8' samples: 174\n",
      "Num of digit '9' samples: 180\n"
     ]
    }
   ],
   "source": [
    "# data is a dictionary. We can then navigate through the dataset using the keys\n",
    "digits.keys()\n",
    "X = digits['data']\n",
    "y = digits['target']\n",
    "\n",
    "# (number of observations, number of features) Note that num features is 64 because it's a 8x8 image\n",
    "print(\"(number of observations, number of features): \"+ str(X.shape))\n",
    "\n",
    "# classes: (each one of the 10 class is a digit from 0 to 9\n",
    "classes = digits['target_names']\n",
    "\n",
    "# number of samples per class\n",
    "for i in classes:\n",
    "    print(\"Num of digit '\" + str(i) + \"' samples: \" + str(sum(y == i)))\n"
   ]
  },
  {
   "cell_type": "code",
   "execution_count": 5,
   "metadata": {
    "pycharm": {
     "is_executing": false,
     "metadata": false,
     "name": "#%%\n"
    }
   },
   "outputs": [
    {
     "name": "stdout",
     "output_type": "stream",
     "text": [
      "\n",
      "Best Estimator:\n",
      "KNeighborsClassifier(algorithm='auto', leaf_size=30, metric='minkowski',\n",
      "           metric_params=None, n_jobs=None, n_neighbors=1, p=2,\n",
      "           weights='uniform')\n",
      "\n",
      "Parameters of best estimator:\n",
      "{'n_neighbors': 1}\n",
      "\n",
      "Training score: 0.9895615866388309\n",
      "Test score: 0.9861111111111112\n"
     ]
    }
   ],
   "source": [
    "\"\"\"\n",
    "EXPERIMENTS\n",
    "\"\"\"\n",
    "\n",
    "# the dataset is split so that 80% of the data is used for training, and 20% for test.\n",
    "from sklearn.model_selection import train_test_split\n",
    "X_train, X_test, y_train, y_test = train_test_split(X, y, test_size=0.2, random_state=13)\n",
    "\n",
    "# K Nearest Neighbors Classifier is going to be used\n",
    "from sklearn.neighbors import KNeighborsClassifier\n",
    "myKNN = KNeighborsClassifier()\n",
    "\n",
    "# required imports for performing grid search cross validation and stratified k fold technique.\n",
    "from sklearn.model_selection import GridSearchCV\n",
    "from sklearn.model_selection import StratifiedKFold\n",
    "\n",
    "# A param grid dictionary is created with the parameters to try in the cross-validation process\n",
    "param_grid = {'n_neighbors': [1, 3, 5, 7, 9, 11, 13, 15]}\n",
    "\n",
    "# KNN estimator, accuracy as scoring, and the data will be split into 10 chunks, thus, it will take 10 iterations\n",
    "myGSCV = GridSearchCV(estimator=myKNN, param_grid=param_grid, scoring='accuracy',\n",
    "                      cv=StratifiedKFold(n_splits=10, random_state=3))\n",
    "\n",
    "# Training of the model\n",
    "myGSCV.fit(X_train, y_train)\n",
    "\n",
    "# prediction (using best_estimator_ by default)\n",
    "y_pred = myGSCV.predict(X_test)\n",
    "\n",
    "# Results\n",
    "print(\"\\nBest Estimator:\\n\" + str(myGSCV.best_estimator_))  # best estimator\n",
    "print(\"\\nParameters of best estimator:\\n\" + str(myGSCV.best_params_))   # parameters of the best estimator\n",
    "print(\"\\nTraining score: \" + str(myGSCV.best_score_))  # training score for achieved with the best estimator\n",
    "print(\"Test score: \" + str(myGSCV.score(X_test, y_test)))  # test score\n"
   ]
  },
  {
   "cell_type": "code",
   "execution_count": null,
   "metadata": {
    "pycharm": {
     "metadata": false,
     "name": "#%%\n"
    }
   },
   "outputs": [],
   "source": [
    "\"\"\"\n",
    "Using Leave one out validation.\n",
    "Now, in each iteration of the cross validation process, all observations except one will be used for training.\n",
    "This means that, in the first iteration, observation #1 is out, in second iteration, observation #2 is out, and so on.\n",
    "Thus, there will be as many iterations as training samples (length of X_train), which means a high computational cost.\n",
    "\"\"\"\n",
    "from sklearn.model_selection import LeaveOneOut\n",
    "myLOO = GridSearchCV(estimator=myKNN, param_grid=param_grid, scoring='accuracy', cv=LeaveOneOut())\n",
    "\n",
    "# Training of the model\n",
    "myLOO.fit(X_train, y_train)\n",
    "\n",
    "# prediction (using best_estimator_ by default)\n",
    "y_predLOO = myLOO.predict(X_test)\n",
    "\n",
    "# Results\n",
    "print(\"\\nBest Estimator:\\n\" + str(myLOO.best_estimator_))   # best estimator\n",
    "print(\"\\nParameters of best estimator:\\n\" + str(myLOO.best_params_))    # parameters of the best estimator\n",
    "print(\"\\nTraining score: \" + str(myLOO.best_score_))  # training score for achieved with the best estimator\n",
    "print(\"Test score: \" + str(myLOO.score(X_test, y_test)))  # test score\n"
   ]
  },
  {
   "cell_type": "code",
   "execution_count": null,
   "metadata": {
    "pycharm": {
     "metadata": false,
     "name": "#%%\n"
    }
   },
   "outputs": [],
   "source": [
    "\"\"\"\n",
    "5. Stratified K Fold.\n",
    "\"\"\"\n"
   ]
  },
  {
   "cell_type": "code",
   "execution_count": null,
   "metadata": {
    "pycharm": {
     "metadata": false,
     "name": "#%%\n"
    }
   },
   "outputs": [],
   "source": [
    "\"\"\"\n",
    "6. Distance Weights\n",
    "# uniform weights (default): all points in each neighborhood have same weight (used in exercise 3)\n",
    "# distance weights: points closer to the evaluated will have more influence.\n",
    "\"\"\"\n",
    "param_grid = {'n_neighbors': [1, 3, 5, 7, 9, 11, 13, 15], 'weights': ['uniform', 'distance']}\n",
    "# KNN estimator, accuracy as scoring, and the data will be split into 10 chunks, thus, it will take 10 iterations\n",
    "myGSCV = GridSearchCV(estimator=myKNN, param_grid=param_grid, scoring='accuracy',\n",
    "                      cv=StratifiedKFold(n_splits=10, random_state=3))\n",
    "\n",
    "# Training of the model\n",
    "myGSCV.fit(X_train, y_train)\n",
    "\n",
    "# prediction (using best_estimator_ by default)\n",
    "y_pred = myGSCV.predict(X_test)\n",
    "\n",
    "# Results\n",
    "print(\"\\nBest Estimator:\\n\" + str(myGSCV.best_estimator_))  # best estimator\n",
    "print(\"\\nParameters of best estimator:\\n\" + str(myGSCV.best_params_))   # parameters of the best estimator\n",
    "print(\"\\nTraining score: \" + str(myGSCV.best_score_))  # training score for achieved with the best estimator\n",
    "print(\"Test score: \" + str(myGSCV.score(X_test, y_test)))  # test score\n",
    "\n",
    "\"\"\"\n",
    "Testing different metrics\n",
    "\"\"\"\n",
    "\n"
   ]
  }
 ],
 "metadata": {
  "kernelspec": {
   "display_name": "Python 3",
   "language": "python",
   "name": "python3"
  },
  "language_info": {
   "codemirror_mode": {
    "name": "ipython",
    "version": 3
   },
   "file_extension": ".py",
   "mimetype": "text/x-python",
   "name": "python",
   "nbconvert_exporter": "python",
   "pygments_lexer": "ipython3",
   "version": "3.6.7"
  },
  "stem_cell": {
   "cell_type": "raw",
   "metadata": {
    "pycharm": {
     "metadata": false
    }
   },
   "source": ""
  }
 },
 "nbformat": 4,
 "nbformat_minor": 2
}
